{
 "cells": [
  {
   "cell_type": "code",
   "execution_count": 2,
   "metadata": {},
   "outputs": [],
   "source": [
    "import torch\n",
    "import numpy as np\n",
    "import matplotlib.pyplot as plt\n",
    "from torch import nn, optim"
   ]
  },
  {
   "cell_type": "code",
   "execution_count": 3,
   "metadata": {},
   "outputs": [
    {
     "name": "stdout",
     "output_type": "stream",
     "text": [
      "CUDA (GPU support) is available in PyTorch!\n"
     ]
    }
   ],
   "source": [
    "if torch.cuda.is_available():\n",
    "    print(\"CUDA (GPU support) is available in PyTorch!\")\n",
    "else:\n",
    "    print(\"CUDA (GPU support) is not available in PyTorch.\")"
   ]
  },
  {
   "cell_type": "code",
   "execution_count": 4,
   "metadata": {},
   "outputs": [],
   "source": [
    "torch.manual_seed(42)\n",
    "np.random.seed(42)"
   ]
  },
  {
   "cell_type": "code",
   "execution_count": 5,
   "metadata": {},
   "outputs": [],
   "source": [
    "class Puasson1DPINN(nn.Module):\n",
    "    def __init__(self, layers):\n",
    "        super(Puasson1DPINN, self).__init__()\n",
    "        self.hidden_layers = nn.ModuleList()\n",
    "        for i in range(1, len(layers)):\n",
    "            self.hidden_layers.append(nn.Linear(layers[i-1], layers[i]))\n",
    "\n",
    "    def forward(self, x_t):\n",
    "        for layer in self.hidden_layers[:-1]:\n",
    "            x_t = torch.tanh(layer(x_t))\n",
    "        x_t = self.hidden_layers[-1](x_t)\n",
    "        return x_t\n",
    "    \n",
    "    def compute_gradients(self, x_t):\n",
    "        x_t.requires_grad = True\n",
    "\n",
    "        u = self.forward(x_t)\n",
    "\n",
    "        u_x = torch.autograd.grad(outputs=u, inputs=x_t, grad_outputs=torch.ones_like(u), create_graph=True, allow_unused=True)[0][:, 0]\n",
    "        u_xx = torch.autograd.grad(outputs=u_x, inputs=x_t, grad_outputs=torch.ones_like(u_x), create_graph=True, allow_unused=True)[0][:, 0]\n",
    "        u_t = torch.autograd.grad(outputs=u, inputs=x_t, grad_outputs=torch.ones_like(u), create_graph=True, allow_unused=True)[0][:, 1]\n",
    "        return u, u_x, u_xx, u_t\n",
    "\n",
    "    def dirichlet_conditions(self, x_t_bc_top_bottom_1D, u_bc_top_bottom_1D):\n",
    "        u, _, _, _ = self.compute_gradients(x_t_bc_top_bottom_1D)\n",
    "        return torch.mean((u - u_bc_top_bottom_1D) ** 2)\n",
    "\n",
    "    def neuman_conditions(self, x_t_bc_left_1D, x_t_bc_right_1D):\n",
    "        alpha = 1\n",
    "        u_left, u_x_left, _, _ = self.compute_gradients(x_t_bc_left_1D)\n",
    "        u_right, u_x_right, _, _ = self.compute_gradients(x_t_bc_right_1D)\n",
    "        return torch.mean((-u_x_left - alpha * u_left) ** 2) + torch.mean((u_x_right - 0) ** 2)\n",
    "\n",
    "    def loss_fn(self, x_t_train, x_t_bc_top_bottom_1D, u_bc_top_bottom_1D, x_t_bc_left_1D, x_t_bc_right_1D):\n",
    "        u, u_x, u_xx, u_t = self.compute_gradients(x_t_train)\n",
    "        # Placeholder for Poisson equation and f(x_t_train), adjust as per your actual computation\n",
    "        a = 1\n",
    "        poisson_eq = u_t - a * u_xx - self.f(x_t_train)  # This is a placeholder equation\n",
    "        bc_dirichlet_loss = self.dirichlet_conditions(x_t_bc_top_bottom_1D, u_bc_top_bottom_1D)\n",
    "        bc_neuman_loss = self.neuman_conditions(x_t_bc_left_1D, x_t_bc_right_1D)\n",
    "        return torch.mean(poisson_eq**2) + bc_dirichlet_loss + bc_neuman_loss\n",
    "    \n",
    "    def f(self, x_t):\n",
    "        x, t = x_t[:, 0], x_t[:, 1]\n",
    "        return 1"
   ]
  },
  {
   "cell_type": "code",
   "execution_count": 6,
   "metadata": {},
   "outputs": [],
   "source": [
    "def train(model, optimizer, loss_threshold, x_t_train, x_t_bc_top_bottom_1D, u_bc_top_bottom_1D, x_t_bc_left_1D, x_t_bc_right_1D):\n",
    "    model.train()  # Set the model to training mode (affects certain modules like Dropout, BatchNorm, etc.)\n",
    "    optimizer.zero_grad()\n",
    "    loss = model.loss_fn(x_t_train, x_t_bc_top_bottom_1D, u_bc_top_bottom_1D, x_t_bc_left_1D, x_t_bc_right_1D)\n",
    "    epoch = 0\n",
    "\n",
    "    while loss.item() > loss_threshold:\n",
    "    #for epoch in range(epochs):\n",
    "        optimizer.zero_grad()  # Clears old gradients from the last step (otherwise gradients would accumulate)\n",
    "        \n",
    "        # Compute the loss based on the provided training and boundary condition data\n",
    "        loss = model.loss_fn(x_t_train, x_t_bc_top_bottom_1D, u_bc_top_bottom_1D, x_t_bc_left_1D, x_t_bc_right_1D)\n",
    "        \n",
    "        loss.backward()  # Backpropagate the loss to compute gradients\n",
    "        optimizer.step()  # Adjust model parameters based on the computed gradients\n",
    "        \n",
    "        if epoch % 100 == 0:  # Optionally print the loss every 100 epochs\n",
    "            print(f'Epoch {epoch}, Loss: {loss.item()}')\n",
    "\n",
    "        if loss.item() < loss_threshold:  # If loss falls below threshold, stop training\n",
    "            print(f'Training completed early at epoch {epoch} due to reaching loss threshold.')\n",
    "            break\n",
    "\n",
    "        epoch += 1\n",
    "            \n",
    "    print(f\"Training completed in {epoch+1} epochs with final loss: {loss.item()}\")\n"
   ]
  },
  {
   "cell_type": "code",
   "execution_count": 7,
   "metadata": {},
   "outputs": [
    {
     "name": "stdout",
     "output_type": "stream",
     "text": [
      "Epoch 0, Loss: 1.7558661699295044\n",
      "Epoch 100, Loss: 0.2633045017719269\n",
      "Epoch 200, Loss: 0.23932123184204102\n",
      "Epoch 300, Loss: 0.2329438030719757\n",
      "Epoch 400, Loss: 0.23010215163230896\n",
      "Epoch 500, Loss: 0.22775039076805115\n",
      "Epoch 600, Loss: 0.22570087015628815\n",
      "Epoch 700, Loss: 0.22391057014465332\n",
      "Epoch 800, Loss: 0.22231703996658325\n",
      "Epoch 900, Loss: 0.22073864936828613\n",
      "Epoch 1000, Loss: 0.21895605325698853\n",
      "Epoch 1100, Loss: 0.21697013080120087\n",
      "Epoch 1200, Loss: 0.21469497680664062\n",
      "Epoch 1300, Loss: 0.20973986387252808\n",
      "Epoch 1400, Loss: 0.17113058269023895\n",
      "Epoch 1500, Loss: 0.09099264442920685\n",
      "Epoch 1600, Loss: 0.07491855323314667\n",
      "Epoch 1700, Loss: 0.07136926800012589\n",
      "Epoch 1800, Loss: 0.0697254091501236\n",
      "Epoch 1900, Loss: 0.06857880204916\n",
      "Epoch 2000, Loss: 0.06766478717327118\n",
      "Epoch 2100, Loss: 0.06690812855958939\n",
      "Epoch 2200, Loss: 0.06617330014705658\n",
      "Epoch 2300, Loss: 0.06538322567939758\n",
      "Epoch 2400, Loss: 0.06459228694438934\n",
      "Epoch 2500, Loss: 0.06391018629074097\n",
      "Epoch 2600, Loss: 0.06334079802036285\n",
      "Epoch 2700, Loss: 0.06281827390193939\n",
      "Epoch 2800, Loss: 0.06230920925736427\n",
      "Epoch 2900, Loss: 0.06180404871702194\n",
      "Epoch 3000, Loss: 0.06130973622202873\n",
      "Epoch 3100, Loss: 0.06082237884402275\n",
      "Epoch 3200, Loss: 0.060352351516485214\n",
      "Epoch 3300, Loss: 0.05989310145378113\n",
      "Epoch 3400, Loss: 0.0594356395304203\n",
      "Epoch 3500, Loss: 0.05920404940843582\n",
      "Epoch 3600, Loss: 0.05853429064154625\n",
      "Epoch 3700, Loss: 0.05809677392244339\n",
      "Epoch 3800, Loss: 0.05768376588821411\n",
      "Epoch 3900, Loss: 0.057260602712631226\n",
      "Epoch 4000, Loss: 0.056829728186130524\n",
      "Epoch 4100, Loss: 0.05632665008306503\n",
      "Epoch 4200, Loss: 0.055774010717868805\n",
      "Epoch 4300, Loss: 0.055252883583307266\n",
      "Epoch 4400, Loss: 0.055107660591602325\n",
      "Epoch 4500, Loss: 0.05437838286161423\n",
      "Epoch 4600, Loss: 0.05406222119927406\n",
      "Epoch 4700, Loss: 0.053656961768865585\n",
      "Epoch 4800, Loss: 0.053360357880592346\n",
      "Epoch 4900, Loss: 0.05295345187187195\n",
      "Epoch 5000, Loss: 0.05294432491064072\n",
      "Epoch 5100, Loss: 0.05229368433356285\n",
      "Epoch 5200, Loss: 0.051976680755615234\n",
      "Epoch 5300, Loss: 0.051675114780664444\n",
      "Epoch 5400, Loss: 0.051367539912462234\n",
      "Epoch 5500, Loss: 0.05109260231256485\n",
      "Epoch 5600, Loss: 0.050794363021850586\n",
      "Epoch 5700, Loss: 0.05049154907464981\n",
      "Epoch 5800, Loss: 0.05027226358652115\n"
     ]
    },
    {
     "ename": "KeyboardInterrupt",
     "evalue": "",
     "output_type": "error",
     "traceback": [
      "\u001b[1;31m---------------------------------------------------------------------------\u001b[0m",
      "\u001b[1;31mKeyboardInterrupt\u001b[0m                         Traceback (most recent call last)",
      "Cell \u001b[1;32mIn[7], line 38\u001b[0m\n\u001b[0;32m     35\u001b[0m x_t_bc_right_1D \u001b[38;5;241m=\u001b[39m torch\u001b[38;5;241m.\u001b[39mtensor(x_t_bc_right, dtype\u001b[38;5;241m=\u001b[39mtorch\u001b[38;5;241m.\u001b[39mfloat32)\n\u001b[0;32m     37\u001b[0m \u001b[38;5;66;03m# Training the model\u001b[39;00m\n\u001b[1;32m---> 38\u001b[0m \u001b[43mtrain\u001b[49m\u001b[43m(\u001b[49m\u001b[43mmodel\u001b[49m\u001b[43m,\u001b[49m\u001b[43m \u001b[49m\u001b[43moptimizer\u001b[49m\u001b[43m,\u001b[49m\u001b[43m \u001b[49m\u001b[38;5;241;43m0.03\u001b[39;49m\u001b[43m,\u001b[49m\u001b[43m \u001b[49m\u001b[43mx_t_train\u001b[49m\u001b[43m,\u001b[49m\u001b[43m \u001b[49m\u001b[43mx_t_bc_top_bottom_1D\u001b[49m\u001b[43m,\u001b[49m\u001b[43m \u001b[49m\u001b[43mu_bc_top_bottom_1D\u001b[49m\u001b[43m,\u001b[49m\u001b[43m \u001b[49m\u001b[43mx_t_bc_left_1D\u001b[49m\u001b[43m,\u001b[49m\u001b[43m \u001b[49m\u001b[43mx_t_bc_right_1D\u001b[49m\u001b[43m,\u001b[49m\u001b[43m \u001b[49m\u001b[43mepochs\u001b[49m\u001b[38;5;241;43m=\u001b[39;49m\u001b[38;5;241;43m1000\u001b[39;49m\u001b[43m)\u001b[49m\n",
      "Cell \u001b[1;32mIn[6], line 14\u001b[0m, in \u001b[0;36mtrain\u001b[1;34m(model, optimizer, loss_threshold, x_t_train, x_t_bc_top_bottom_1D, u_bc_top_bottom_1D, x_t_bc_left_1D, x_t_bc_right_1D, epochs)\u001b[0m\n\u001b[0;32m     11\u001b[0m \u001b[38;5;66;03m# Compute the loss based on the provided training and boundary condition data\u001b[39;00m\n\u001b[0;32m     12\u001b[0m loss \u001b[38;5;241m=\u001b[39m model\u001b[38;5;241m.\u001b[39mloss_fn(x_t_train, x_t_bc_top_bottom_1D, u_bc_top_bottom_1D, x_t_bc_left_1D, x_t_bc_right_1D)\n\u001b[1;32m---> 14\u001b[0m \u001b[43mloss\u001b[49m\u001b[38;5;241;43m.\u001b[39;49m\u001b[43mbackward\u001b[49m\u001b[43m(\u001b[49m\u001b[43m)\u001b[49m  \u001b[38;5;66;03m# Backpropagate the loss to compute gradients\u001b[39;00m\n\u001b[0;32m     15\u001b[0m optimizer\u001b[38;5;241m.\u001b[39mstep()  \u001b[38;5;66;03m# Adjust model parameters based on the computed gradients\u001b[39;00m\n\u001b[0;32m     17\u001b[0m \u001b[38;5;28;01mif\u001b[39;00m epoch \u001b[38;5;241m%\u001b[39m \u001b[38;5;241m100\u001b[39m \u001b[38;5;241m==\u001b[39m \u001b[38;5;241m0\u001b[39m:  \u001b[38;5;66;03m# Optionally print the loss every 100 epochs\u001b[39;00m\n",
      "File \u001b[1;32mc:\\Users\\spayd\\AppData\\Local\\Programs\\Python\\Python310\\lib\\site-packages\\torch\\_tensor.py:492\u001b[0m, in \u001b[0;36mTensor.backward\u001b[1;34m(self, gradient, retain_graph, create_graph, inputs)\u001b[0m\n\u001b[0;32m    482\u001b[0m \u001b[38;5;28;01mif\u001b[39;00m has_torch_function_unary(\u001b[38;5;28mself\u001b[39m):\n\u001b[0;32m    483\u001b[0m     \u001b[38;5;28;01mreturn\u001b[39;00m handle_torch_function(\n\u001b[0;32m    484\u001b[0m         Tensor\u001b[38;5;241m.\u001b[39mbackward,\n\u001b[0;32m    485\u001b[0m         (\u001b[38;5;28mself\u001b[39m,),\n\u001b[1;32m   (...)\u001b[0m\n\u001b[0;32m    490\u001b[0m         inputs\u001b[38;5;241m=\u001b[39minputs,\n\u001b[0;32m    491\u001b[0m     )\n\u001b[1;32m--> 492\u001b[0m \u001b[43mtorch\u001b[49m\u001b[38;5;241;43m.\u001b[39;49m\u001b[43mautograd\u001b[49m\u001b[38;5;241;43m.\u001b[39;49m\u001b[43mbackward\u001b[49m\u001b[43m(\u001b[49m\n\u001b[0;32m    493\u001b[0m \u001b[43m    \u001b[49m\u001b[38;5;28;43mself\u001b[39;49m\u001b[43m,\u001b[49m\u001b[43m \u001b[49m\u001b[43mgradient\u001b[49m\u001b[43m,\u001b[49m\u001b[43m \u001b[49m\u001b[43mretain_graph\u001b[49m\u001b[43m,\u001b[49m\u001b[43m \u001b[49m\u001b[43mcreate_graph\u001b[49m\u001b[43m,\u001b[49m\u001b[43m \u001b[49m\u001b[43minputs\u001b[49m\u001b[38;5;241;43m=\u001b[39;49m\u001b[43minputs\u001b[49m\n\u001b[0;32m    494\u001b[0m \u001b[43m\u001b[49m\u001b[43m)\u001b[49m\n",
      "File \u001b[1;32mc:\\Users\\spayd\\AppData\\Local\\Programs\\Python\\Python310\\lib\\site-packages\\torch\\autograd\\__init__.py:251\u001b[0m, in \u001b[0;36mbackward\u001b[1;34m(tensors, grad_tensors, retain_graph, create_graph, grad_variables, inputs)\u001b[0m\n\u001b[0;32m    246\u001b[0m     retain_graph \u001b[38;5;241m=\u001b[39m create_graph\n\u001b[0;32m    248\u001b[0m \u001b[38;5;66;03m# The reason we repeat the same comment below is that\u001b[39;00m\n\u001b[0;32m    249\u001b[0m \u001b[38;5;66;03m# some Python versions print out the first line of a multi-line function\u001b[39;00m\n\u001b[0;32m    250\u001b[0m \u001b[38;5;66;03m# calls in the traceback and some print out the last line\u001b[39;00m\n\u001b[1;32m--> 251\u001b[0m \u001b[43mVariable\u001b[49m\u001b[38;5;241;43m.\u001b[39;49m\u001b[43m_execution_engine\u001b[49m\u001b[38;5;241;43m.\u001b[39;49m\u001b[43mrun_backward\u001b[49m\u001b[43m(\u001b[49m\u001b[43m  \u001b[49m\u001b[38;5;66;43;03m# Calls into the C++ engine to run the backward pass\u001b[39;49;00m\n\u001b[0;32m    252\u001b[0m \u001b[43m    \u001b[49m\u001b[43mtensors\u001b[49m\u001b[43m,\u001b[49m\n\u001b[0;32m    253\u001b[0m \u001b[43m    \u001b[49m\u001b[43mgrad_tensors_\u001b[49m\u001b[43m,\u001b[49m\n\u001b[0;32m    254\u001b[0m \u001b[43m    \u001b[49m\u001b[43mretain_graph\u001b[49m\u001b[43m,\u001b[49m\n\u001b[0;32m    255\u001b[0m \u001b[43m    \u001b[49m\u001b[43mcreate_graph\u001b[49m\u001b[43m,\u001b[49m\n\u001b[0;32m    256\u001b[0m \u001b[43m    \u001b[49m\u001b[43minputs\u001b[49m\u001b[43m,\u001b[49m\n\u001b[0;32m    257\u001b[0m \u001b[43m    \u001b[49m\u001b[43mallow_unreachable\u001b[49m\u001b[38;5;241;43m=\u001b[39;49m\u001b[38;5;28;43;01mTrue\u001b[39;49;00m\u001b[43m,\u001b[49m\n\u001b[0;32m    258\u001b[0m \u001b[43m    \u001b[49m\u001b[43maccumulate_grad\u001b[49m\u001b[38;5;241;43m=\u001b[39;49m\u001b[38;5;28;43;01mTrue\u001b[39;49;00m\u001b[43m,\u001b[49m\n\u001b[0;32m    259\u001b[0m \u001b[43m\u001b[49m\u001b[43m)\u001b[49m\n",
      "\u001b[1;31mKeyboardInterrupt\u001b[0m: "
     ]
    }
   ],
   "source": [
    "layers = [2, 20, 20, 20, 1]  # Adjusted first layer to accept 2 inputs (x and t)\n",
    "model = Puasson1DPINN(layers)\n",
    "optimizer = optim.AdamW(model.parameters(), lr=1e-03)\n",
    "\n",
    "# Example Data Preparation (Adapt this to your actual data)\n",
    "N_train_x = 100\n",
    "N_train_t = 1000\n",
    "N_bc = 100\n",
    "L_x, R_x = 0.0, 1.0\n",
    "L_t, R_t = 0.0, 1.0\n",
    "\n",
    "x = np.linspace(L_x, R_x, N_train_x)\n",
    "t = np.linspace(L_t, R_t, N_train_t)\n",
    "X, T = np.meshgrid(x, t)\n",
    "x_t_train = np.hstack((X.flatten()[:, None], T.flatten()[:, None]))\n",
    "x_t_train = torch.tensor(x_t_train, dtype=torch.float32)\n",
    "\n",
    "t_bc = np.linspace(L_t, R_t, N_bc)\n",
    "x_t_bc_top = np.hstack((R_x * np.ones_like(t_bc)[:, None], t_bc[:, None]))\n",
    "x_t_bc_bottom = np.hstack((L_x * np.ones_like(t_bc)[:, None], t_bc[:, None]))\n",
    "x_t_bc_top_bottom_1D = np.vstack((x_t_bc_top, x_t_bc_bottom))\n",
    "x_t_bc_top_bottom_1D = torch.tensor(x_t_bc_top_bottom_1D, dtype=torch.float32)\n",
    "\n",
    "# Example u values for Dirichlet conditions, replace with actual functions f(t) and g(t)\n",
    "u_bc_top = torch.ones(len(t_bc), 1)  # u = 1 at the top boundary\n",
    "u_bc_bottom = torch.zeros(len(t_bc), 1)  # u = 0 at the bottom boundary\n",
    "\n",
    "# Combine the top and bottom boundary conditions into one tensor\n",
    "u_bc_top_bottom_1D = torch.cat([u_bc_bottom, u_bc_top], dim=0)\n",
    "\n",
    "x_bc = np.linspace(L_x, R_x, N_bc)\n",
    "x_t_bc_left = np.hstack((x_bc[:, None], L_t * np.ones_like(x_bc)[:, None]))\n",
    "x_t_bc_right = np.hstack((x_bc[:, None], R_t * np.ones_like(x_bc)[:, None]))\n",
    "x_t_bc_left_1D = torch.tensor(x_t_bc_left, dtype=torch.float32)\n",
    "x_t_bc_right_1D = torch.tensor(x_t_bc_right, dtype=torch.float32)\n",
    "\n",
    "# Training the model\n",
    "train(model, optimizer, 0.03, x_t_train, x_t_bc_top_bottom_1D, u_bc_top_bottom_1D, x_t_bc_left_1D, x_t_bc_right_1D, epochs=1000)"
   ]
  },
  {
   "cell_type": "code",
   "execution_count": null,
   "metadata": {},
   "outputs": [],
   "source": [
    "x_test = np.linspace(L_x, R_x, 100)\n",
    "t_test = np.linspace(L_t, R_t, 100)\n",
    "X_test, T_test = np.meshgrid(x_test, t_test)\n",
    "x_t_test = np.hstack((X_test.flatten()[:, None], T_test.flatten()[:, None]))\n",
    "x_t_test_tensor = torch.tensor(x_t_test, dtype=torch.float32)\n",
    "\n",
    "# Evaluate the model on these points\n",
    "model.eval()  # Set the model to evaluation mode\n",
    "u_pred = model(x_t_test_tensor).detach().cpu().numpy()\n",
    "\n",
    "# Reshape u_pred to match the grid shape\n",
    "U_pred = u_pred.reshape(X_test.shape)"
   ]
  },
  {
   "cell_type": "code",
   "execution_count": null,
   "metadata": {},
   "outputs": [
    {
     "data": {
      "image/png": "[encoded data removed]",
      "text/plain": [
       "<Figure size 640x480 with 2 Axes>"
      ]
     },
     "metadata": {},
     "output_type": "display_data"
    }
   ],
   "source": [
    "plt.contourf(X_test, T_test, U_pred, levels=50, cmap='viridis')\n",
    "plt.colorbar()\n",
    "plt.xlabel('Space (x)')\n",
    "plt.ylabel('Time (t)')\n",
    "plt.title('PINN Solution Contour')\n",
    "plt.show()"
   ]
  },
  {
   "cell_type": "code",
   "execution_count": null,
   "metadata": {},
   "outputs": [
    {
     "ename": "NameError",
     "evalue": "name 'plt' is not defined",
     "output_type": "error",
     "traceback": [
      "\u001b[1;31m---------------------------------------------------------------------------\u001b[0m",
      "\u001b[1;31mNameError\u001b[0m                                 Traceback (most recent call last)",
      "Cell \u001b[1;32mIn[1], line 1\u001b[0m\n\u001b[1;32m----> 1\u001b[0m fig \u001b[38;5;241m=\u001b[39m \u001b[43mplt\u001b[49m\u001b[38;5;241m.\u001b[39mfigure()\n\u001b[0;32m      2\u001b[0m ax \u001b[38;5;241m=\u001b[39m fig\u001b[38;5;241m.\u001b[39madd_subplot(\u001b[38;5;241m111\u001b[39m, projection\u001b[38;5;241m=\u001b[39m\u001b[38;5;124m'\u001b[39m\u001b[38;5;124m3d\u001b[39m\u001b[38;5;124m'\u001b[39m)\n\u001b[0;32m      3\u001b[0m surf \u001b[38;5;241m=\u001b[39m ax\u001b[38;5;241m.\u001b[39mplot_surface(X_test, T_test, U_pred, cmap\u001b[38;5;241m=\u001b[39m\u001b[38;5;124m'\u001b[39m\u001b[38;5;124mviridis\u001b[39m\u001b[38;5;124m'\u001b[39m, edgecolor\u001b[38;5;241m=\u001b[39m\u001b[38;5;124m'\u001b[39m\u001b[38;5;124mnone\u001b[39m\u001b[38;5;124m'\u001b[39m)\n",
      "\u001b[1;31mNameError\u001b[0m: name 'plt' is not defined"
     ]
    }
   ],
   "source": [
    "fig = plt.figure()\n",
    "ax = fig.add_subplot(111, projection='3d')\n",
    "surf = ax.plot_surface(X_test, T_test, U_pred, cmap='viridis', edgecolor='none')\n",
    "fig.colorbar(surf)\n",
    "ax.set_xlabel('Space (x)')\n",
    "ax.set_ylabel('Time (t)')\n",
    "ax.set_zlabel('Solution (u)')\n",
    "ax.set_title('PINN Solution Surface')\n",
    "ax.view_init(elev=30, azim=-45)\n",
    "plt.show()"
   ]
  }
 ],
 "metadata": {
  "kernelspec": {
   "display_name": "Python 3",
   "language": "python",
   "name": "python3"
  },
  "language_info": {
   "codemirror_mode": {
    "name": "ipython",
    "version": 3
   },
   "file_extension": ".py",
   "mimetype": "text/x-python",
   "name": "python",
   "nbconvert_exporter": "python",
   "pygments_lexer": "ipython3",
   "version": "3.10.6"
  }
 },
 "nbformat": 4,
 "nbformat_minor": 2
}
